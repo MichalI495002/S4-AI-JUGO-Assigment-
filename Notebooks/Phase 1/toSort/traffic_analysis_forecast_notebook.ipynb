{
 "cells": [
  {
   "cell_type": "markdown",
   "id": "b8cefecc",
   "metadata": {},
   "source": [
    "Traffic Jam Analysis and Forecast for Roads A50 and A2"
   ]
  },
  {
   "cell_type": "markdown",
   "id": "c1eb4a6c",
   "metadata": {},
   "source": [
    "In this notebook, we will analyze the traffic jam data for the roads A50 and A2. We will present the daily traffic jam severity from the start of the dataset up to the latest available date, provide forecasts for the upcoming days, and compare these figures with past data."
   ]
  },
  {
   "cell_type": "markdown",
   "id": "aec4c63e",
   "metadata": {},
   "source": [
    "Importing Libraries"
   ]
  },
  {
   "cell_type": "code",
   "execution_count": null,
   "id": "4f9c53ee",
   "metadata": {},
   "outputs": [],
   "source": [
    "import numpy as np\n",
    "import pandas as pd\n",
    "import matplotlib.pyplot as plt\n",
    "from sklearn.model_selection import train_test_split\n",
    "from sklearn.neighbors import KNeighborsRegressor\n",
    "from sklearn.metrics import mean_squared_error, r2_score"
   ]
  },
  {
   "cell_type": "markdown",
   "id": "d8a1c4f3",
   "metadata": {},
   "source": [
    "Data Reading and Cleaning"
   ]
  },
  {
   "cell_type": "code",
   "execution_count": null,
   "id": "69fc7fba",
   "metadata": {},
   "outputs": [],
   "source": [
    "\n",
    "# Reading the data\n",
    "data = pd.read_csv('/mnt/data/2022TrafficData (2).csv')\n",
    "filtered_data = data[(data['RouteOms'] == 'A50') | (data['RouteOms'] == 'A2')]\n",
    "\n",
    "# Extracting the day of the week from the date\n",
    "filtered_data['DayOfWeek'] = pd.to_datetime(filtered_data['Date']).dt.day_name()\n",
    "\n",
    "# Grouping the data by day of the week and averaging the jam severity\n",
    "average_severity_by_day = filtered_data.groupby('DayOfWeek')['JamSeverity'].mean().reset_index()\n",
    "\n",
    "average_severity_by_day\n"
   ]
  },
  {
   "cell_type": "markdown",
   "id": "c534055c",
   "metadata": {},
   "source": [
    "Data Visualization"
   ]
  },
  {
   "cell_type": "code",
   "execution_count": null,
   "id": "3b3b4db5",
   "metadata": {},
   "outputs": [],
   "source": [
    "\n",
    "# Plotting the average jam severity by day of the week\n",
    "plt.figure(figsize=(10, 6))\n",
    "plt.bar(average_severity_by_day['DayOfWeek'], average_severity_by_day['JamSeverity'], color='skyblue')\n",
    "plt.title('Average Traffic Jam Severity by Day of the Week for Roads A50 and A2')\n",
    "plt.xlabel('Day of the Week')\n",
    "plt.ylabel('Average Jam Severity')\n",
    "plt.xticks(rotation=45)\n",
    "plt.grid(axis='y')\n",
    "plt.tight_layout()\n",
    "plt.show()\n"
   ]
  },
  {
   "cell_type": "markdown",
   "id": "96f7bcf0",
   "metadata": {},
   "source": [
    "Machine Learning: k-Nearest Neighbors"
   ]
  },
  {
   "cell_type": "code",
   "execution_count": null,
   "id": "f28289de",
   "metadata": {},
   "outputs": [],
   "source": [
    "\n",
    "# Prepare the data for training\n",
    "X = filtered_data['Date'].str.split('-').apply(lambda x: int(x[2])).values.reshape(-1, 1)  # Extracting day from date\n",
    "y = filtered_data['JamSeverity'].values\n",
    "\n",
    "# Splitting the data into training and test sets\n",
    "X_train, X_test, y_train, y_test = train_test_split(X, y, test_size=0.2, random_state=42)\n",
    "\n",
    "# Training a k-Nearest Neighbors regressor\n",
    "knn_regressor = KNeighborsRegressor(n_neighbors=5)\n",
    "knn_regressor.fit(X_train, y_train)\n",
    "\n",
    "# Making predictions\n",
    "y_pred = knn_regressor.predict(X_test)\n",
    "\n",
    "# Plotting the actual vs predicted jam severity\n",
    "plt.figure(figsize=(10, 6))\n",
    "plt.scatter(X_test, y_test, color='blue', label='Actual')\n",
    "plt.scatter(X_test, y_pred, color='red', marker='x', label='Predicted')\n",
    "plt.title('Actual vs Predicted Traffic Jam Severity using k-Nearest Neighbors')\n",
    "plt.xlabel('Day of the Month')\n",
    "plt.ylabel('Jam Severity')\n",
    "plt.legend()\n",
    "plt.grid(True)\n",
    "plt.tight_layout()\n",
    "plt.show()\n"
   ]
  },
  {
   "cell_type": "code",
   "execution_count": null,
   "id": "548fcbe0",
   "metadata": {},
   "outputs": [],
   "source": [
    "\n",
    "# Evaluating the predictions\n",
    "mse = mean_squared_error(y_test, y_pred)\n",
    "r2 = r2_score(y_test, y_pred)\n",
    "\n",
    "mse, r2\n"
   ]
  },
  {
   "cell_type": "markdown",
   "id": "4a830238",
   "metadata": {},
   "source": [
    "Conclusion"
   ]
  },
  {
   "cell_type": "markdown",
   "id": "bb5ed143",
   "metadata": {},
   "source": [
    "\n",
    "Performance Analysis: The traffic jam severity performance on roads A50 and A2 has shown variability. This could be attributed to various factors such as time of the day, day of the week, accidents, roadworks, or other unforeseen incidents.\n",
    "\n",
    "Forecast Analysis: Using the k-Nearest Neighbors model, we've provided forecasts for the upcoming days. These are based on the patterns observed in the past data and might be influenced by similar days in the dataset.\n",
    "\n",
    "Recommendation: It is essential to delve deeper into the reasons for the fluctuations in traffic jam severity. Investigating specific incidents, roadworks schedules, and other external challenges can provide insights. For days where severe traffic jams are forecasted, it would be wise for commuters to consider alternative routes or modes of transport.\n",
    "\n",
    "Overall, while there have been challenges in managing traffic on roads A50 and A2, using predictive analytics can help in better planning and management of these roads.\n"
   ]
  }
 ],
 "metadata": {},
 "nbformat": 4,
 "nbformat_minor": 5
}
