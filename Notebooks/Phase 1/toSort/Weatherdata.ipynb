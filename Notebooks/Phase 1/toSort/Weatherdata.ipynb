{
 "cells": [
  {
   "cell_type": "markdown",
   "metadata": {},
   "source": [
    "# Weather data KMNI group project"
   ]
  },
  {
   "cell_type": "markdown",
   "metadata": {},
   "source": [
    "# Phase 2 - 📦 Data provisioning"
   ]
  },
  {
   "cell_type": "markdown",
   "metadata": {},
   "source": [
    "## The description of the dataset"
   ]
  },
  {
   "cell_type": "markdown",
   "metadata": {},
   "source": [
    "BRON: KONINKLIJK NEDERLANDS METEOROLOGISCH INSTITUUT (KNMI)\n",
    "Opmerking: door stationsverplaatsingen en veranderingen in waarneemmethodieken zijn deze tijdreeksen van uurwaarden mogelijk inhomogeen! Dat betekent dat deze reeks van gemeten waarden niet geschikt is voor trendanalyse. Voor studies naar klimaatverandering verwijzen we naar de gehomogeniseerde dagreeksen <http://www.knmi.nl/nederland-nu/klimatologie/daggegevens> of de Centraal Nederland Temperatuur <http://www.knmi.nl/kennis-en-datacentrum/achtergrond/centraal-nederland-temperatuur-cnt>.\n",
    "\n",
    "SOURCE: ROYAL NETHERLANDS METEOROLOGICAL INSTITUTE (KNMI)\n",
    "Comment: These time series are inhomogeneous because of station relocations and changes in observation techniques. As a result, these series are not suitable for trend analysis. For climate change studies we refer to the homogenized series of daily data <http://www.knmi.nl/nederland-nu/klimatologie/daggegevens> or the Central Netherlands Temperature <http://www.knmi.nl/kennis-en-datacentrum/achtergrond/centraal-nederland-temperatuur-cnt>.\n",
    "\n",
    "YYYYMMDD  = datum (YYYY=jaar,MM=maand,DD=dag) / date (YYYY=year,MM=month,DD=day)\n",
    "\n",
    "HH        = tijd (HH=uur, UT.12 UT=13 MET, 14 MEZT. Uurvak 05 loopt van 04.00 UT tot 5.00 UT / time (HH uur/hour, UT. 12 UT=13 MET, 14 MEZT. Hourly division 05 runs from 04.00 UT to 5.00 UT\n",
    "\n",
    "DD        = Windrichting (in graden) gemiddeld over de laatste 10 minuten van het afgelopen uur (360=noord, 90=oost, 180=zuid, 270=west, 0=windstil 990=veranderlijk. Zie http://www.knmi.nl/kennis-en-datacentrum/achtergrond/klimatologische-brochures-en-boeken / Mean wind direction (in degrees) during the 10-minute period preceding the time of observation (360=north, 90=east, 180=south, 270=west, 0=calm 990=variable)\n",
    "\n",
    "FH        = Uurgemiddelde windsnelheid (in 0.1 m/s). Zie http://www.knmi.nl/kennis-en-datacentrum/achtergrond/klimatologische-brochures-en-boeken / Hourly mean wind speed (in 0.1 m/s)\n",
    "\n",
    "FF        = Windsnelheid (in 0.1 m/s) gemiddeld over de laatste 10 minuten van het afgelopen uur / Mean wind speed (in 0.1 m/s) during the 10-minute period preceding the time of observation\n",
    "\n",
    "FX        = Hoogste windstoot (in 0.1 m/s) over het afgelopen uurvak / Maximum wind gust (in 0.1 m/s) during the hourly division\n",
    "\n",
    "T         = Temperatuur (in 0.1 graden Celsius) op 1.50 m hoogte tijdens de waarneming / Temperature (in 0.1 degrees Celsius) at 1.50 m at the time of observation\n",
    "\n",
    "T10N      = Minimumtemperatuur (in 0.1 graden Celsius) op 10 cm hoogte in de afgelopen 6 uur / Minimum temperature (in 0.1 degrees Celsius) at 0.1 m inthe preceding 6-hour period\n",
    "\n",
    "TD        = Dauwpuntstemperatuur (in 0.1 graden Celsius) op 1.50 m hoogte tijdens de waarneming / Dew point temperature (in 0.1 degrees Celsius) at 1.50 m at the time of observation\n",
    "SQ        = Duur van de zonneschijn (in 0.1 uren) per uurvak, berekend uit globale straling  (-1 for <0.05 uur) / Sunshine duration (in 0.1 hour) during the hourly division, calculated from global radiation (-1 for <0.05 hour)\n",
    "\n",
    "Q         = Globale straling (in J/cm2) per uurvak / Global radiation (in J/cm2) during the hourly division\n",
    "\n",
    "DR        = Duur van de neerslag (in 0.1 uur) per uurvak / Precipitation duration (in 0.1 hour) during the hourly division\n",
    "\n",
    "RH        = Uursom van de neerslag (in 0.1 mm) (-1 voor <0.05 mm) / Hourly precipitation amount (in 0.1 mm) (-1 for <0.05 mm)\n",
    "\n",
    "P         = Luchtdruk (in 0.1 hPa) herleid naar zeeniveau, tijdens de waarneming / Air pressure (in 0.1 hPa) reduced to mean sea level, at the time of observation\n",
    "\n",
    "VV        = Horizontaal zicht tijdens de waarneming (0=minder dan 100m, 1=100-200m, 2=200-300m,..., 49=4900-5000m, 50=5-6km, 56=6-7km, 57=7-8km, ..., 79=29-30km, 80=30-35km, 81=35-40km,..., 89=meer dan 70km) / Horizontal visibility at the time of observation (0=less than 100m, 1=100-200m, 2=200-300m,..., 49=4900-5000m, 50=5-6km, 56=6-7km, 57=7-8km, ..., 79=29-30km, 80=30-35km, 81=35-40km,..., 89=more than 70km)\n",
    "\n",
    "N         = Bewolking (bedekkingsgraad van de bovenlucht in achtsten), tijdens de waarneming (9=bovenlucht onzichtbaar) / Cloud cover (in octants), at the time of observation (9=sky invisible)\n",
    "\n",
    "U         = Relatieve vochtigheid (in procenten) op 1.50 m hoogte tijdens de waarneming / Relative atmospheric humidity (in percents) at 1.50 m at the time of observation\n",
    "\n",
    "WW        = Weercode (00-99), visueel(WW) of automatisch(WaWa) waargenomen, voor het actuele weer of het weer in het afgelopen uur. Zie http://bibliotheek.knmi.nl/scholierenpdf/weercodes_Nederland / Present weather code (00-99), description for the hourly division.\n",
    "\n",
    "IX        = Weercode indicator voor de wijze van waarnemen op een bemand of automatisch station (1=bemand gebruikmakend van code uit visuele waarnemingen, 2,3=bemand en weggelaten (geen belangrijk weersverschijnsel, geen gegevens), 4=automatisch en opgenomen (gebruikmakend van code uit visuele waarnemingen), 5,6=automatisch en weggelaten (geen belangrijk weersverschijnsel, geen gegevens), 7=automatisch gebruikmakend van code uit automatische waarnemingen) / Indicator present weather code 1=manned and recorded (using code from visual observations), 2,3=manned and omitted (no significant weather phenomenon to report, not available), 4=automatically recorded (using code from visual observations), 5,6=automatically omitted (no significant weather phenomenon to report, not available), 7=automatically set (using code from automated observations)\n",
    "\n",
    "M         = Mist 0=niet voorgekomen, 1=wel voorgekomen in het voorgaande uur en/of tijdens de waarneming / Fog 0=no occurrence, 1=occurred during the preceding hour and/or at the time of observation\n",
    "\n",
    "R         = Regen 0=niet voorgekomen, 1=wel voorgekomen in het voorgaande uur en/of tijdens de waarneming / Rainfall 0=no occurrence, 1=occurred duringthe preceding hour and/or at the time of observation\n",
    "\n",
    "S         = Sneeuw 0=niet voorgekomen, 1=wel voorgekomen in het voorgaande uur en/of tijdens de waarneming / Snow 0=no occurrence, 1=occurred during the preceding hour and/or at the time of observation\n",
    "\n",
    "O         = Onweer 0=niet voorgekomen, 1=wel voorgekomen in het voorgaande uur en/of tijdens de waarneming / Thunder  0=no occurrence, 1=occurred during the preceding hour and/or at the time of observation\n",
    "\n",
    "Y         = IJsvorming 0=niet voorgekomen, 1=wel voorgekomen in het voorgaande uur en/of tijdens de waarneming / Ice formation 0=no occurrence, 1=occurred during the preceding hour and/or at the time of observation"
   ]
  },
  {
   "cell_type": "markdown",
   "metadata": {},
   "source": [
    "## Phase 2 - Data Collection"
   ]
  },
  {
   "cell_type": "markdown",
   "metadata": {},
   "source": [
    "### <b>Algemeen: Inladen libraries</b>"
   ]
  },
  {
   "cell_type": "code",
   "execution_count": null,
   "metadata": {},
   "outputs": [],
   "source": [
    "import pandas as pd\n",
    "import seaborn as sns\n",
    "import sklearn\n",
    "import matplotlib.pyplot as plt\n",
    "import math\n",
    "import numpy as np\n",
    "import warnings\n",
    "\n",
    "print(\"scikit-learn version:\", sklearn.__version__)  # Example: 1.1.3\n",
    "print(\"pandas version:\", pd.__version__)            # Example: 1.5.1\n",
    "print(\"seaborn version:\", sns.__version__)          # Example: 0.12.1\n"
   ]
  },
  {
   "cell_type": "markdown",
   "metadata": {},
   "source": [
    "### <b>Weatherdata: inladen dataset</b>"
   ]
  },
  {
   "cell_type": "markdown",
   "metadata": {},
   "source": [
    "Skip the first 32 rows of description; load in the columns; skip the Station, ww, IX and T10N column; load everyting into the dataframe."
   ]
  },
  {
   "cell_type": "code",
   "execution_count": null,
   "metadata": {},
   "outputs": [],
   "source": [
    "#skip the first 32 rows (description) and import the rest of the data\n",
    "def load_dataset(file_path):\n",
    "    # number of rows to skip\n",
    "    rows_to_skip = 32\n",
    "\n",
    "    # define column names based on the descriptions\n",
    "    column_names = [\n",
    "        'Station', 'Date', 'Hour', 'DD', 'FH', 'FF', 'FX', 'T', 'T10N', 'TD', 'SQ', 'Q', 'DR', 'RH', 'P',\n",
    "        'VV', 'N', 'U', 'WW', 'IX', 'M', 'R', 'S', 'O', 'Y'\n",
    "    ]\n",
    "\n",
    "    # Specify columns to load (all except 'Station')\n",
    "    columns_to_load = [col for col in column_names if col not in ['Station', 'WW', 'IX', 'T10N']]\n",
    "\n",
    "    # loading the dataset into a pandas DataFrame\n",
    "    df = pd.read_csv(file_path, skiprows=rows_to_skip, usecols=columns_to_load, names=column_names, encoding='ISO-8859-1')\n",
    "    \n",
    "\n",
    "    return df\n",
    "\n",
    "# file path to the kmni dataset\n",
    "file_path = 'C:/Users/timon/OneDrive/Documenten/FONTYS/Semester 4/FireAIce/S4-AI-JUGO-Assigment-/Data/weatherdata/uurgeg_370_2021-2030.txt'\n",
    "\n",
    "# creating the DataFrame\n",
    "df = load_dataset(file_path)\n",
    "\n"
   ]
  },
  {
   "cell_type": "markdown",
   "metadata": {},
   "source": [
    "### <b>Weatherdata: Inleidende data beschrijving</b>"
   ]
  },
  {
   "cell_type": "markdown",
   "metadata": {},
   "source": [
    "### Data understanding"
   ]
  },
  {
   "cell_type": "code",
   "execution_count": null,
   "metadata": {},
   "outputs": [],
   "source": [
    "df.sample(10)"
   ]
  },
  {
   "cell_type": "code",
   "execution_count": null,
   "metadata": {},
   "outputs": [],
   "source": [
    "df.describe()"
   ]
  },
  {
   "cell_type": "markdown",
   "metadata": {},
   "source": [
    "The metrics include:\n",
    "<br><br>\n",
    "Date and Hour: Represents the time of the observation.<br>\n",
    "DD: Wind direction in degrees.<br>\n",
    "FH: Hourly mean wind speed in 0.1 m/s.<br>\n",
    "FF: Mean wind speed in 0.1 m/s over the last 10 minutes of the past hour.<br>\n",
    "FX: Maximum wind gust in 0.1 m/s during the past hour.<br>\n",
    "T: Temperature in 0.1 degrees Celsius at 1.5 m height.<br>\n",
    "TD: Dew point temperature in 0.1 degrees Celsius at 1.5 m height.<br>\n",
    "SQ: Sunshine duration in 0.1 hours per hour.<br>\n",
    "Q: Global radiation in J/cm² per hour.<br>\n",
    "DR: Duration of precipitation in 0.1 hours per hour.<br>\n",
    "RH: Hourly precipitation amount in 0.1 mm.<br>\n",
    "P: Air pressure in 0.1 hPa reduced to mean sea level.<br>\n",
    "VV: Horizontal visibility.<br>\n",
    "U: Relative humidity in percentage at 1.5 m height.<br>\n",
    "M, R, S, O, Y: Presence of fog, rain, snow, thunder, and ice formation respectively (0 for no occurrence, 1 for occurrence)."
   ]
  },
  {
   "cell_type": "markdown",
   "metadata": {},
   "source": [
    "### <b>Weatherdata: Handling missing data</b>"
   ]
  },
  {
   "cell_type": "code",
   "execution_count": null,
   "metadata": {},
   "outputs": [],
   "source": [
    "#Tel alle isnull values\n",
    "missing_values_count = df.isnull().sum()\n",
    "print(missing_values_count)"
   ]
  },
  {
   "cell_type": "markdown",
   "metadata": {},
   "source": [
    "Counting missing values in the dataset."
   ]
  },
  {
   "cell_type": "code",
   "execution_count": null,
   "metadata": {},
   "outputs": [],
   "source": [
    "# Controleer op dubbele rijen\n",
    "duplicates = df.duplicated()\n",
    "num_duplicates = duplicates.sum()\n",
    "print(num_duplicates)"
   ]
  },
  {
   "cell_type": "markdown",
   "metadata": {},
   "source": [
    "Checking duplicated values.\n",
    "<br><br><br><br><br>"
   ]
  },
  {
   "cell_type": "markdown",
   "metadata": {},
   "source": [
    "Several features in thge dataset are recorded in 0.1 units and would need to be transformed to 1-based units. These features include:\n",
    "\n",
    "FH (Uurgemiddelde windsnelheid / Hourly mean wind speed): Recorded in 0.1 m/s. <br>\n",
    "FF (Windsnelheid / Mean wind speed): Recorded in 0.1 m/s.<br>\n",
    "FX (Hoogste windstoot / Maximum wind gust): Recorded in 0.1 m/s.<br>\n",
    "T (Temperatuur / Temperature): Recorded in 0.1 degrees Celsius.<br>\n",
    "TD (Dauwpuntstemperatuur / Dew point temperature): Recorded in 0.1 degrees Celsius.<br>\n",
    "SQ (Duur van de zonneschijn / Sunshine duration): Recorded in 0.1 hours.<br>\n",
    "DR (Duur van de neerslag / Precipitation duration): Recorded in 0.1 hours.<br>\n",
    "RH (Uursom van de neerslag / Hourly precipitation amount): Recorded in 0.1 mm.<br>\n",
    "P (Luchtdruk / Air pressure): Recorded in 0.1 hPa.<br>\n"
   ]
  },
  {
   "cell_type": "code",
   "execution_count": null,
   "metadata": {},
   "outputs": [],
   "source": [
    "# List of columns to be converted\n",
    "columns_to_convert = ['FH', 'FF', 'FX', 'T', 'TD', 'SQ', 'DR', 'RH', 'P']\n",
    "\n",
    "# Multiply each of these columns by 10\n",
    "for column in columns_to_convert:\n",
    "    df[column] = df[column] / 10\n",
    "\n",
    "print(df.head())"
   ]
  },
  {
   "cell_type": "markdown",
   "metadata": {},
   "source": [
    "<br><br><br><br>"
   ]
  },
  {
   "cell_type": "markdown",
   "metadata": {},
   "source": [
    "### <b>Weatherdata: Temperature</b>"
   ]
  },
  {
   "cell_type": "code",
   "execution_count": null,
   "metadata": {},
   "outputs": [],
   "source": [
    "import matplotlib.pyplot as plt\n",
    "import seaborn as sns\n",
    "\n",
    "# Histogram of Temperature\n",
    "plt.hist(df['T'], bins=30)\n",
    "plt.title('Distribution of Temperature')\n",
    "plt.xlabel('Temperature')\n",
    "plt.ylabel('Frequency')\n",
    "plt.show()"
   ]
  },
  {
   "cell_type": "code",
   "execution_count": null,
   "metadata": {},
   "outputs": [],
   "source": [
    "# Time series plot of temperature\n",
    "plt.figure(figsize=(12, 6))\n",
    "plt.plot(df.index, df['T'], label='Temperature')\n",
    "plt.xlabel('Date')\n",
    "plt.ylabel('Temperature (°C)')\n",
    "plt.title('Temperature Over Time')\n",
    "plt.legend()\n",
    "plt.show()"
   ]
  }
 ],
 "metadata": {
  "language_info": {
   "name": "python"
  }
 },
 "nbformat": 4,
 "nbformat_minor": 2
}
