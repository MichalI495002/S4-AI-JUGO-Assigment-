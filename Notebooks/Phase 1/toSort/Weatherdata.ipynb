{
 "cells": [
  {
   "cell_type": "markdown",
   "metadata": {},
   "source": [
    "# Weather data KMNI group project"
   ]
  },
  {
   "cell_type": "markdown",
   "metadata": {},
   "source": [
    "## The description of the dataset"
   ]
  },
  {
   "cell_type": "markdown",
   "metadata": {},
   "source": [
    "BRON: KONINKLIJK NEDERLANDS METEOROLOGISCH INSTITUUT (KNMI)\n",
    "Opmerking: door stationsverplaatsingen en veranderingen in waarneemmethodieken zijn deze tijdreeksen van uurwaarden mogelijk inhomogeen! Dat betekent dat deze reeks van gemeten waarden niet geschikt is voor trendanalyse. Voor studies naar klimaatverandering verwijzen we naar de gehomogeniseerde dagreeksen <http://www.knmi.nl/nederland-nu/klimatologie/daggegevens> of de Centraal Nederland Temperatuur <http://www.knmi.nl/kennis-en-datacentrum/achtergrond/centraal-nederland-temperatuur-cnt>.\n",
    "\n",
    "SOURCE: ROYAL NETHERLANDS METEOROLOGICAL INSTITUTE (KNMI)\n",
    "Comment: These time series are inhomogeneous because of station relocations and changes in observation techniques. As a result, these series are not suitable for trend analysis. For climate change studies we refer to the homogenized series of daily data <http://www.knmi.nl/nederland-nu/klimatologie/daggegevens> or the Central Netherlands Temperature <http://www.knmi.nl/kennis-en-datacentrum/achtergrond/centraal-nederland-temperatuur-cnt>.\n",
    "\n",
    "YYYYMMDD  = datum (YYYY=jaar,MM=maand,DD=dag) / date (YYYY=year,MM=month,DD=day)\n",
    "\n",
    "HH        = tijd (HH=uur, UT.12 UT=13 MET, 14 MEZT. Uurvak 05 loopt van 04.00 UT tot 5.00 UT / time (HH uur/hour, UT. 12 UT=13 MET, 14 MEZT. Hourly division 05 runs from 04.00 UT to 5.00 UT\n",
    "\n",
    "DD        = Windrichting (in graden) gemiddeld over de laatste 10 minuten van het afgelopen uur (360=noord, 90=oost, 180=zuid, 270=west, 0=windstil 990=veranderlijk. Zie http://www.knmi.nl/kennis-en-datacentrum/achtergrond/klimatologische-brochures-en-boeken / Mean wind direction (in degrees) during the 10-minute period preceding the time of observation (360=north, 90=east, 180=south, 270=west, 0=calm 990=variable)\n",
    "\n",
    "FH        = Uurgemiddelde windsnelheid (in 0.1 m/s). Zie http://www.knmi.nl/kennis-en-datacentrum/achtergrond/klimatologische-brochures-en-boeken / Hourly mean wind speed (in 0.1 m/s)\n",
    "\n",
    "FF        = Windsnelheid (in 0.1 m/s) gemiddeld over de laatste 10 minuten van het afgelopen uur / Mean wind speed (in 0.1 m/s) during the 10-minute period preceding the time of observation\n",
    "\n",
    "FX        = Hoogste windstoot (in 0.1 m/s) over het afgelopen uurvak / Maximum wind gust (in 0.1 m/s) during the hourly division\n",
    "\n",
    "T         = Temperatuur (in 0.1 graden Celsius) op 1.50 m hoogte tijdens de waarneming / Temperature (in 0.1 degrees Celsius) at 1.50 m at the time of observation\n",
    "\n",
    "T10N      = Minimumtemperatuur (in 0.1 graden Celsius) op 10 cm hoogte in de afgelopen 6 uur / Minimum temperature (in 0.1 degrees Celsius) at 0.1 m inthe preceding 6-hour period\n",
    "\n",
    "TD        = Dauwpuntstemperatuur (in 0.1 graden Celsius) op 1.50 m hoogte tijdens de waarneming / Dew point temperature (in 0.1 degrees Celsius) at 1.50 m at the time of observation\n",
    "SQ        = Duur van de zonneschijn (in 0.1 uren) per uurvak, berekend uit globale straling  (-1 for <0.05 uur) / Sunshine duration (in 0.1 hour) during the hourly division, calculated from global radiation (-1 for <0.05 hour)\n",
    "\n",
    "Q         = Globale straling (in J/cm2) per uurvak / Global radiation (in J/cm2) during the hourly division\n",
    "\n",
    "DR        = Duur van de neerslag (in 0.1 uur) per uurvak / Precipitation duration (in 0.1 hour) during the hourly division\n",
    "\n",
    "RH        = Uursom van de neerslag (in 0.1 mm) (-1 voor <0.05 mm) / Hourly precipitation amount (in 0.1 mm) (-1 for <0.05 mm)\n",
    "\n",
    "P         = Luchtdruk (in 0.1 hPa) herleid naar zeeniveau, tijdens de waarneming / Air pressure (in 0.1 hPa) reduced to mean sea level, at the time of observation\n",
    "\n",
    "VV        = Horizontaal zicht tijdens de waarneming (0=minder dan 100m, 1=100-200m, 2=200-300m,..., 49=4900-5000m, 50=5-6km, 56=6-7km, 57=7-8km, ..., 79=29-30km, 80=30-35km, 81=35-40km,..., 89=meer dan 70km) / Horizontal visibility at the time of observation (0=less than 100m, 1=100-200m, 2=200-300m,..., 49=4900-5000m, 50=5-6km, 56=6-7km, 57=7-8km, ..., 79=29-30km, 80=30-35km, 81=35-40km,..., 89=more than 70km)\n",
    "\n",
    "N         = Bewolking (bedekkingsgraad van de bovenlucht in achtsten), tijdens de waarneming (9=bovenlucht onzichtbaar) / Cloud cover (in octants), at the time of observation (9=sky invisible)\n",
    "\n",
    "U         = Relatieve vochtigheid (in procenten) op 1.50 m hoogte tijdens de waarneming / Relative atmospheric humidity (in percents) at 1.50 m at the time of observation\n",
    "\n",
    "WW        = Weercode (00-99), visueel(WW) of automatisch(WaWa) waargenomen, voor het actuele weer of het weer in het afgelopen uur. Zie http://bibliotheek.knmi.nl/scholierenpdf/weercodes_Nederland / Present weather code (00-99), description for the hourly division.\n",
    "\n",
    "IX        = Weercode indicator voor de wijze van waarnemen op een bemand of automatisch station (1=bemand gebruikmakend van code uit visuele waarnemingen, 2,3=bemand en weggelaten (geen belangrijk weersverschijnsel, geen gegevens), 4=automatisch en opgenomen (gebruikmakend van code uit visuele waarnemingen), 5,6=automatisch en weggelaten (geen belangrijk weersverschijnsel, geen gegevens), 7=automatisch gebruikmakend van code uit automatische waarnemingen) / Indicator present weather code (1=manned and recorded (using code from visual observations), 2,3=manned and omitted (no significant weather phenomenon to report, not available), 4=automatically recorded (using code from visual observations), 5,6=automatically omitted (no significant weather phenomenon to report, not available), 7=automatically set (using code from automated observations)\n",
    "\n",
    "M         = Mist 0=niet voorgekomen, 1=wel voorgekomen in het voorgaande uur en/of tijdens de waarneming / Fog 0=no occurrence, 1=occurred during the preceding hour and/or at the time of observation\n",
    "\n",
    "R         = Regen 0=niet voorgekomen, 1=wel voorgekomen in het voorgaande uur en/of tijdens de waarneming / Rainfall 0=no occurrence, 1=occurred duringthe preceding hour and/or at the time of observation\n",
    "\n",
    "S         = Sneeuw 0=niet voorgekomen, 1=wel voorgekomen in het voorgaande uur en/of tijdens de waarneming / Snow 0=no occurrence, 1=occurred during the preceding hour and/or at the time of observation\n",
    "\n",
    "O         = Onweer 0=niet voorgekomen, 1=wel voorgekomen in het voorgaande uur en/of tijdens de waarneming / Thunder  0=no occurrence, 1=occurred during the preceding hour and/or at the time of observation\n",
    "\n",
    "Y         = IJsvorming 0=niet voorgekomen, 1=wel voorgekomen in het voorgaande uur en/of tijdens de waarneming / Ice formation 0=no occurrence, 1=occurred during the preceding hour and/or at the time of observation"
   ]
  },
  {
   "cell_type": "markdown",
   "metadata": {},
   "source": [
    "## Importing libraries"
   ]
  },
  {
   "cell_type": "code",
   "execution_count": null,
   "metadata": {},
   "outputs": [],
   "source": [
    "import pandas as pd\n",
    "import seaborn as sns\n",
    "import sklearn\n",
    "import matplotlib.pyplot as plt\n",
    "import math\n",
    "import numpy as np\n",
    "import warnings\n",
    "\n",
    "print(\"scikit-learn version:\", sklearn.__version__)  # Example: 1.1.3\n",
    "print(\"pandas version:\", pd.__version__)            # Example: 1.5.1\n",
    "print(\"seaborn version:\", sns.__version__)          # Example: 0.12.1\n"
   ]
  },
  {
   "cell_type": "markdown",
   "metadata": {},
   "source": [
    "# #1. Load in the weather dataset from the KMNI"
   ]
  },
  {
   "cell_type": "markdown",
   "metadata": {},
   "source": [
    "Skip the first 32 rows of description; load in the columns; skip the Station, ww, IX and T10N column; load everyting into the dataframe."
   ]
  },
  {
   "cell_type": "code",
   "execution_count": null,
   "metadata": {},
   "outputs": [],
   "source": [
    "#skip the first 32 rows (description) and import the rest of the data\n",
    "def load_dataset(file_path):\n",
    "    # number of rows to skip\n",
    "    rows_to_skip = 32\n",
    "\n",
    "    # define column names based on the descriptions\n",
    "    column_names = [\n",
    "        'Station', 'Date', 'Hour', 'DD', 'FH', 'FF', 'FX', 'T', 'T10N', 'TD', 'SQ', 'Q', 'DR', 'RH', 'P',\n",
    "        'VV', 'N', 'U', 'WW', 'IX', 'M', 'R', 'S', 'O', 'Y'\n",
    "    ]\n",
    "\n",
    "    # Specify columns to load (all except 'Station')\n",
    "    columns_to_load = [col for col in column_names if col not in ['Station', 'WW', 'IX', 'T10N']]\n",
    "\n",
    "    # loading the dataset into a pandas DataFrame\n",
    "    df = pd.read_csv(file_path, skiprows=rows_to_skip, usecols=columns_to_load, names=column_names, encoding='ISO-8859-1')\n",
    "    \n",
    "\n",
    "    return df\n",
    "\n",
    "# file path to the kmni dataset\n",
    "file_path = 'uurgeg_370_2021-2030.txt'\n",
    "\n",
    "# creating the DataFrame\n",
    "df = load_dataset(file_path)\n",
    "\n",
    "# displaying the first few rows of the DataFrame\n",
    "print(df.head())"
   ]
  },
  {
   "cell_type": "markdown",
   "metadata": {},
   "source": [
    "# #2. Clean the data  \n",
    "Convert the date and hour to datetime stamp"
   ]
  },
  {
   "cell_type": "code",
   "execution_count": null,
   "metadata": {},
   "outputs": [],
   "source": [
    "# convert date to datetime object\n",
    "df['Date'] = pd.to_datetime(df['Date'], format='%Y%m%d')\n",
    "\n",
    "# combine date and hour into a new Datetime column\n",
    "df['Datetime'] = df.apply(lambda row: row['Date'] + pd.Timedelta(hours=row['Hour']), axis=1)\n",
    "\n",
    "# drop the original date and hour columns if you want to\n",
    "df = df.drop(columns=['Date', 'Hour'])\n",
    "\n",
    "# display the first few rows to verify the changes\n",
    "print(df.head())"
   ]
  },
  {
   "cell_type": "code",
   "execution_count": null,
   "metadata": {},
   "outputs": [],
   "source": [
    "#rename column names\n",
    "df = df.rename(columns={\n",
    "    'DD': 'WindDirection',\n",
    "    'FH': 'MeanWindSpeed',\n",
    "    'FF': 'MeanWindSpeed_10min',\n",
    "    'FX': 'MaxWindGust',\n",
    "    'T': 'Temperature',\n",
    "    'TD': 'DewPointTemperature',\n",
    "    'SQ': 'SunshineDuration',\n",
    "    'Q': 'GlobalRadiation',\n",
    "    'DR': 'PrecipitationDuration',\n",
    "    'RH': 'HourlyPrecipitationAmount',\n",
    "    'P': 'AirPressure',\n",
    "    'VV': 'Visibility',\n",
    "    'N': 'CloudCover',\n",
    "    'U': 'RelativeHumidity',\n",
    "    'M': 'Mist',\n",
    "    'R': 'Rain',\n",
    "    'S': 'Snow',\n",
    "    'O': 'Thunder',\n",
    "    'Y': 'Ice'\n",
    "})\n",
    "\n",
    "# display the first few rows of the DataFrame after renaming\n",
    "df.head()"
   ]
  },
  {
   "cell_type": "markdown",
   "metadata": {},
   "source": [
    "# #3. Summarizing the data\n",
    "Summarize the data to show me some basics."
   ]
  },
  {
   "cell_type": "code",
   "execution_count": null,
   "metadata": {},
   "outputs": [],
   "source": [
    "summary_statistics = df.describe()\n",
    "print(summary_statistics)"
   ]
  },
  {
   "cell_type": "markdown",
   "metadata": {},
   "source": [
    "## Conclusion of the summary\n",
    "I see that the max Temperature is 378 degrees. This seems a bit high.  Now I see in the data description that some Units are in 0.1 which means that we have to / it by 10 to get an normal value.\n"
   ]
  },
  {
   "cell_type": "markdown",
   "metadata": {},
   "source": [
    "## 3.5 Change units"
   ]
  },
  {
   "cell_type": "markdown",
   "metadata": {},
   "source": [
    "I need to change some of the units to /10 because the original unit was for example in 0.1 m/s."
   ]
  },
  {
   "cell_type": "code",
   "execution_count": null,
   "metadata": {},
   "outputs": [],
   "source": [
    "df['MeanWindSpeed'] = df['MeanWindSpeed'] / 10\n",
    "df['MeanWindSpeed_10min'] = df['MeanWindSpeed_10min'] / 10\n",
    "df['MaxWindGust'] = df['MaxWindGust'] / 10\n",
    "df['Temperature'] = df['Temperature'] / 10\n",
    "df['DewPointTemperature'] = df['DewPointTemperature'] / 10\n",
    "df['SunshineDuration'] = df['SunshineDuration'] / 10\n",
    "df['PrecipitationDuration'] = df['PrecipitationDuration'] / 10\n",
    "df['HourlyPrecipitationAmount'] = df['HourlyPrecipitationAmount'] / 10\n",
    "df['AirPressure'] = df['AirPressure'] / 10\n",
    "\n"
   ]
  },
  {
   "cell_type": "markdown",
   "metadata": {},
   "source": [
    "# #4. Missing values\n",
    "Check missing values"
   ]
  },
  {
   "cell_type": "code",
   "execution_count": null,
   "metadata": {},
   "outputs": [],
   "source": [
    "# Check for missing values\n",
    "missing_values = df.isnull().sum()\n",
    "print(\"Missing Values:\")\n",
    "print(missing_values)"
   ]
  },
  {
   "cell_type": "markdown",
   "metadata": {},
   "source": [
    "You can see that there are no null or nan values! "
   ]
  },
  {
   "cell_type": "markdown",
   "metadata": {},
   "source": [
    "# #5. Distribution for the features\n"
   ]
  },
  {
   "cell_type": "code",
   "execution_count": null,
   "metadata": {},
   "outputs": [],
   "source": [
    "# leave out all the warnings I get that seem a bit chaotic\n",
    "warnings.filterwarnings('ignore', category=FutureWarning, module='seaborn')\n",
    "\n",
    "\n",
    "# get amount of rows and columns for the math grid\n",
    "num_numerical_features = len(numerical_features.columns)\n",
    "num_rows = math.ceil(np.sqrt(num_numerical_features))\n",
    "num_cols = math.ceil(num_numerical_features / num_rows)\n",
    "\n",
    "# Set up the matplotlib figure\n",
    "plt.figure(figsize=(15, 10))\n",
    "\n",
    "# Draw histograms for each numerical feature\n",
    "for i, feature in enumerate(numerical_features.columns, 1):\n",
    "    plt.subplot(num_rows, num_cols, i)\n",
    "    sns.histplot(df[feature], kde=False, bins=30)\n",
    "    plt.title(f'Distribution of {feature}')\n",
    "    \n",
    "plt.tight_layout()\n",
    "plt.show()"
   ]
  },
  {
   "cell_type": "markdown",
   "metadata": {},
   "source": [
    "Above you can see the distribution of the values per feature. For example, the Temperature is nicely normally distributed with a mean of around 12 degrees. This seems a natural value distribution. The last graphs only show bars a 0 and a few at 1. This is because the data only consists of 0's and 1's. For example snow and thunder are very rare so you nearly don't see any values of 1."
   ]
  },
  {
   "cell_type": "markdown",
   "metadata": {},
   "source": [
    "# #6. Correlation heatmap\n"
   ]
  },
  {
   "cell_type": "code",
   "execution_count": null,
   "metadata": {},
   "outputs": [],
   "source": [
    "# Convert non-numeric columns to numeric and handle missing values (for the datetime convert tot numerical)\n",
    "for col in df.columns:\n",
    "    df[col] = pd.to_numeric(df[col], errors='coerce')\n",
    "\n",
    "# Handle missing values (choose one method)\n",
    "# df = df.fillna(0)  # Example: fill NaN with 0\n",
    "df = df.dropna()  # Example: drop rows with NaN\n",
    "\n",
    "# Calculate the correlation matrix\n",
    "correlation_matrix = df.corr()\n",
    "\n",
    "# Create a heatmap of the correlation matrix\n",
    "plt.figure(figsize=(12, 10))\n",
    "sns.heatmap(correlation_matrix, annot=True, fmt=\".2f\", cmap='coolwarm', square=True, linewidths=.5)\n",
    "plt.title('Correlation Matrix')\n",
    "plt.show()"
   ]
  },
  {
   "cell_type": "markdown",
   "metadata": {},
   "source": [
    "Above you see the correlations between the features of the dataset. These correlations seem to make sense. For example the Visability will drain when Mist increases. And for example a positive correlation between the sunshine duration and the temperature."
   ]
  },
  {
   "cell_type": "markdown",
   "metadata": {},
   "source": [
    "# #7. Time series trends"
   ]
  },
  {
   "cell_type": "code",
   "execution_count": null,
   "metadata": {},
   "outputs": [],
   "source": [
    "# Load the dataset\n",
    "df['Datetime'] = pd.to_datetime(df['Datetime'])\n",
    "\n",
    "# Set the datetime column as the index\n",
    "df.set_index('Datetime', inplace=True)\n",
    "\n",
    "# Sort the DataFrame by datetime index\n",
    "df.sort_index(inplace=True)\n",
    "\n",
    "# Plot the time series data of temperature\n",
    "plt.figure(figsize=(10, 5))\n",
    "df['Temperature'].plot()\n",
    "plt.title('Time Series Trend Temperature (degrees celcius)')\n",
    "plt.xlabel('Date')\n",
    "plt.ylabel('Value')\n",
    "plt.grid(True)\n",
    "plt.show()\n",
    "\n"
   ]
  },
  {
   "cell_type": "markdown",
   "metadata": {},
   "source": [
    "Here you can see the clear over time trend in the temperature. During the winter it decreases and during the summer it increases."
   ]
  },
  {
   "cell_type": "code",
   "execution_count": null,
   "metadata": {},
   "outputs": [],
   "source": [
    "# Plot the time series data of Preceipitation\n",
    "plt.figure(figsize=(10, 5))\n",
    "df['HourlyPrecipitationAmount'].plot()\n",
    "plt.title('Time Series Trend Precipitation sum per hour (mm)')\n",
    "plt.xlabel('Date')\n",
    "plt.ylabel('Value')\n",
    "plt.grid(True)\n",
    "plt.show()\n",
    "\n"
   ]
  },
  {
   "cell_type": "markdown",
   "metadata": {},
   "source": [
    "This graph shows the precipitation per hour. During the summer of 2022 there was a very large peak in the precipitation. I looked on the internet and found ineed that on the 20th of May 2022 there was heavy weather in the Netherland with floods and even a tornado."
   ]
  },
  {
   "cell_type": "code",
   "execution_count": null,
   "metadata": {},
   "outputs": [],
   "source": [
    "# Plot the time series data of \n",
    "plt.figure(figsize=(10, 5))\n",
    "df['Snow'].plot()\n",
    "plt.title('Time Series Trend Snow (Yes or no)')\n",
    "plt.xlabel('Date')\n",
    "plt.ylabel('Value')\n",
    "plt.grid(True)\n",
    "plt.show()"
   ]
  },
  {
   "cell_type": "markdown",
   "metadata": {},
   "source": [
    "These graph only shows the days when there was snow in Eindhoven. The data only gives a 0 or 1. It clearly shows that in 2021 there were more days with snow than in 2022 and 2023. (Global warming? ;)) although the graph doenst say how much snow there was."
   ]
  }
 ],
 "metadata": {
  "kernelspec": {
   "display_name": "Python 3",
   "language": "python",
   "name": "python3"
  },
  "language_info": {
   "codemirror_mode": {
    "name": "ipython",
    "version": 3
   },
   "file_extension": ".py",
   "mimetype": "text/x-python",
   "name": "python",
   "nbconvert_exporter": "python",
   "pygments_lexer": "ipython3",
   "version": "3.10.11"
  },
  "orig_nbformat": 4
 },
 "nbformat": 4,
 "nbformat_minor": 2
}
