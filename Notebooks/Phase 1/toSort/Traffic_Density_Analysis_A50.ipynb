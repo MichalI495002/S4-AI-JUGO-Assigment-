{
 "cells": [
  {
   "cell_type": "markdown",
   "id": "b5ac472a",
   "metadata": {},
   "source": [
    "## Traffic Density Analysis on A50 Route\n",
    "\n",
    "In this notebook, we'll analyze and visualize the traffic density on the A50 route."
   ]
  },
  {
   "cell_type": "markdown",
   "id": "8e0efe8d",
   "metadata": {},
   "source": [
    "### Data Loading and Preprocessing"
   ]
  },
  {
   "cell_type": "markdown",
   "id": "1e7f7a1c",
   "metadata": {},
   "source": [
    "First, we load the dataset from the provided CSV file. We then filter the data to focus only on the A50 route. Subsequent preprocessing steps include converting the 'DatumFileBegin' column to a datetime format for easier analysis and converting the 'FileZwaarte' column to a numeric format after replacing commas with dots."
   ]
  },
  {
   "cell_type": "code",
   "execution_count": null,
   "id": "afca7c71",
   "metadata": {},
   "outputs": [],
   "source": [
    "import pandas as pd\n",
    "\n",
    "# Load the \n",
    "df = pd.read_csv(\"../../../Data/trafficDataA50/2022TrafficData.csv\")\n",
    "# Filter for A50 route\n",
    "filtered_df = df[df['RouteOms'] == 'A50']\n",
    "# Convert columns to appropriate data types\n",
    "filtered_df[\"DatumFileBegin\"] = pd.to_datetime(filtered_df[\"DatumFileBegin\"])\n",
    "filtered_df[\"FileZwaarte\"] = filtered_df[\"FileZwaarte\"].str.replace(',', '.').astype(float)"
   ]
  },
  {
   "cell_type": "markdown",
   "id": "3ca09ccc",
   "metadata": {},
   "source": [
    "### Grouping and Filtering Data for Visualization"
   ]
  },
  {
   "cell_type": "markdown",
   "id": "352b1bd7",
   "metadata": {},
   "source": [
    "To prepare the data for visualization, we need to group it by date and sum the traffic density values for each day. This gives us a daily aggregate of traffic density. We then filter this aggregated data to focus on specific periods. In this section, we filter the data to obtain values for the entire month of October 2022 and specifically for the first week of October 2022."
   ]
  },
  {
   "cell_type": "code",
   "execution_count": null,
   "id": "816fbd6f",
   "metadata": {},
   "outputs": [],
   "source": [
    "# Group data by date and sum the traffic density\n",
    "grouped_data = filtered_df.groupby(\"DatumFileBegin\")[\"FileZwaarte\"].sum()\n",
    "# Filter data for October 2022\n",
    "october_data = grouped_data[grouped_data.index.month == 10]\n",
    "october_data = october_data[october_data.index.year == 2022]\n",
    "# Filter data for the first week of October 2022\n",
    "first_week_october = october_data[(october_data.index.day >= 1) & (october_data.index.day <= 7)]"
   ]
  },
  {
   "cell_type": "markdown",
   "id": "caf1d91c",
   "metadata": {},
   "source": [
    "### Visualization Function"
   ]
  },
  {
   "cell_type": "markdown",
   "id": "d589defa",
   "metadata": {},
   "source": [
    "To avoid redundancy in our code and to make our visualizations consistent, we define a function called 'plot_traffic_density'. This function takes in the data to be plotted, a title for the plot, and the number of ticks to be displayed on the x-axis. The function then generates a line plot with markers, providing a visual representation of traffic density over time."
   ]
  },
  {
   "cell_type": "code",
   "execution_count": null,
   "id": "c861fbfb",
   "metadata": {},
   "outputs": [],
   "source": [
    "import matplotlib.pyplot as plt\n",
    "\n",
    "def plot_traffic_density(data, title, num_ticks):\n",
    "    plt.figure(figsize=(15, 7))\n",
    "    data.plot(marker='o', linestyle='-')\n",
    "    plt.xticks(rotation=45)\n",
    "    plt.gca().xaxis.set_major_locator(plt.MaxNLocator(nbins=num_ticks))\n",
    "    plt.title(title)\n",
    "    plt.xlabel(\"Date\")\n",
    "    plt.ylabel(\"Traffic Density (FileZwaarte)\")\n",
    "    plt.grid(True, which='both', linestyle='--', linewidth=0.5)\n",
    "    plt.tight_layout()\n",
    "    plt.show()"
   ]
  },
  {
   "cell_type": "markdown",
   "id": "5b6734d2",
   "metadata": {},
   "source": [
    "### Traffic Density for the Entire Dataset"
   ]
  },
  {
   "cell_type": "markdown",
   "id": "3c6112cf",
   "metadata": {},
   "source": [
    "In this section, we visualize the traffic density for the entire dataset. This gives us an overview of the traffic patterns on the A50 route over the entire timeframe provided in the dataset."
   ]
  },
  {
   "cell_type": "code",
   "execution_count": null,
   "id": "89f73c56",
   "metadata": {},
   "outputs": [],
   "source": [
    "plot_traffic_density(grouped_data, \"Traffic Density on A50 Route Over Time\", 15)"
   ]
  },
  {
   "cell_type": "markdown",
   "id": "70c27557",
   "metadata": {},
   "source": [
    "### Traffic Density for October 2022"
   ]
  },
  {
   "cell_type": "markdown",
   "id": "a8b424d0",
   "metadata": {},
   "source": [
    "Here, we focus on the traffic density for the month of October 2022. By narrowing down our analysis to a specific month, we can observe any special traffic patterns or anomalies that might occur within that month."
   ]
  },
  {
   "cell_type": "code",
   "execution_count": null,
   "id": "3d1495d2",
   "metadata": {},
   "outputs": [],
   "source": [
    "plot_traffic_density(october_data, \"Traffic Density on A50 Route for October 2022\", len(october_data))"
   ]
  },
  {
   "cell_type": "markdown",
   "id": "acf1ffb7",
   "metadata": {},
   "source": [
    "### Traffic Density for the First Week of October 2022"
   ]
  },
  {
   "cell_type": "markdown",
   "id": "2c16548a",
   "metadata": {},
   "source": [
    "In this final visualization, we narrow our focus even further to just the first week of October 2022. This allows us to observe daily traffic patterns in detail, identifying any specific days with unusually high or low traffic density."
   ]
  },
  {
   "cell_type": "code",
   "execution_count": null,
   "id": "11d2c2fe",
   "metadata": {},
   "outputs": [],
   "source": [
    "plot_traffic_density(first_week_october, \"Traffic Density on A50 Route for the First Week of October 2022\", len(first_week_october))"
   ]
  }
 ],
 "metadata": {
  "language_info": {
   "name": "python"
  }
 },
 "nbformat": 4,
 "nbformat_minor": 5
}
