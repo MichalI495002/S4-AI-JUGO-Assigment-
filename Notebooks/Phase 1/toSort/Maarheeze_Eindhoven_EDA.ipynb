{
 "cells": [
  {
   "cell_type": "markdown",
   "id": "1aad65a5",
   "metadata": {},
   "source": [
    "# Exploratory Data Analysis (EDA) of Maarheeze-Eindhoven Dataset\n",
    "\n",
    "This notebook presents an exploratory data analysis of a dataset related to events between Maarheeze and Eindhoven. The analysis includes basic data structure examination, summary statistics, missing value analysis, unique value exploration, and data visualization.\n"
   ]
  },
  {
   "cell_type": "code",
   "execution_count": null,
   "id": "3829c455",
   "metadata": {},
   "outputs": [],
   "source": [
    "import pandas as pd\n",
    "\n",
    "# Load the dataset\n",
    "file_path = 'dataMaarheezeEindhoven.csv'\n",
    "data = pd.read_csv(file_path)\n",
    "\n",
    "# Display the first few rows of the dataset\n",
    "data.head()\n"
   ]
  },
  {
   "cell_type": "markdown",
   "id": "5e599723",
   "metadata": {},
   "source": [
    "## Data Structure\n",
    "\n",
    "First, let's examine the structure of the dataset, including the number of rows, columns, and the data types of each column.\n"
   ]
  },
  {
   "cell_type": "code",
   "execution_count": null,
   "id": "1a6c41a4",
   "metadata": {},
   "outputs": [],
   "source": [
    "# Checking the structure of the dataset\n",
    "data_structure = {\n",
    "    \"Number of Rows\": data.shape[0],\n",
    "    \"Number of Columns\": data.shape[1],\n",
    "    \"Column Names\": data.columns.tolist(),\n",
    "    \"Data Types\": data.dtypes\n",
    "}\n",
    "\n",
    "data_structure\n"
   ]
  },
  {
   "cell_type": "markdown",
   "id": "0a0770b3",
   "metadata": {},
   "source": [
    "## Summary Statistics and Missing Values\n",
    "\n",
    "Next, we generate basic summary statistics for the numerical columns and check for any missing values in the dataset.\n"
   ]
  },
  {
   "cell_type": "code",
   "execution_count": null,
   "id": "6a0c0976",
   "metadata": {},
   "outputs": [],
   "source": [
    "# Generating summary statistics for numerical columns\n",
    "numerical_summary = data.describe()\n",
    "\n",
    "# Checking for missing values\n",
    "missing_values = data.isnull().sum()\n",
    "\n",
    "numerical_summary, missing_values[missing_values > 0]  # Only showing columns with missing values\n"
   ]
  },
  {
   "cell_type": "markdown",
   "id": "15527548",
   "metadata": {},
   "source": [
    "## Unique Values in Categorical Columns\n",
    "\n",
    "Understanding the diversity in categorical columns is essential. We will explore the unique values in some key categorical columns.\n"
   ]
  },
  {
   "cell_type": "code",
   "execution_count": null,
   "id": "00356b03",
   "metadata": {},
   "outputs": [],
   "source": [
    "# Exploring unique values in certain categorical columns\n",
    "unique_values = {\n",
    "    \"Trajectory From\": data['Trajectory From'].unique(),\n",
    "    \"Trajectory To\": data['Trajectory To'].unique(),\n",
    "    \"Cause Ground Detail\": data['Cause Ground Detail'].unique(),\n",
    "    \"Cause Progression\": data['Cause Progression'].unique(),\n",
    "    \"Month\": data['Month'].unique(),\n",
    "    \"Route\": data['route'].unique()\n",
    "}\n",
    "\n",
    "unique_values\n"
   ]
  },
  {
   "cell_type": "markdown",
   "id": "ba097018",
   "metadata": {},
   "source": [
    "## Data Visualization\n",
    "\n",
    "Visualizations will help us better understand the distribution and relationship of data in the dataset. We will create plots to visualize the distribution of events over months, frequency of different causes, and severity distribution.\n"
   ]
  },
  {
   "cell_type": "code",
   "execution_count": null,
   "id": "afb9d034",
   "metadata": {},
   "outputs": [],
   "source": [
    "import matplotlib.pyplot as plt\n",
    "import seaborn as sns\n",
    "\n",
    "# Setting the aesthetic style of the plots\n",
    "sns.set(style=\"whitegrid\")\n",
    "\n"
   ]
  },
  {
   "cell_type": "code",
   "execution_count": null,
   "id": "9a7448b7",
   "metadata": {},
   "outputs": [],
   "source": [
    "# Distribution of events over months\n",
    "plt.subplot(1, 3, 1)\n",
    "sns.countplot(x='Month', data=data, palette='viridis')\n",
    "plt.title('Distribution of Events Over Months')\n",
    "\n",
    "# Creating visualizations\n",
    "plt.figure(figsize=(15, 5))\n",
    "\n",
    "\n",
    "plt.tight_layout()\n",
    "plt.show()\n",
    "\n",
    "\n"
   ]
  },
  {
   "cell_type": "markdown",
   "id": "36460026",
   "metadata": {},
   "source": [
    "The bar chart illustrates the number of events that occurred in each month throughout a given year. The vertical axis represents the count of events, and the horizontal axis represents the months, labeled 1 through 12.\n",
    "\n",
    "From the chart, we can observe the following:\n",
    "- The number of events increases as the year progresses, with a slight dip in the mid-year months.\n",
    "- The beginning of the year starts with a lower count of events, which could be attributed to fewer active projects or less movement due to winter conditions in some regions.\n",
    "- A significant increase in events is noticeable in the later months, peaking in the last month, December. This could potentially be related to end-of-year activities, holiday-related events, or weather changes.\n",
    "- The months with the highest number of events are 8 (August) and 12 (December), indicating specific periods of high activity or seasonal factors that may contribute to an increased incidence rate.\n"
   ]
  },
  {
   "cell_type": "code",
   "execution_count": null,
   "id": "a02368b3",
   "metadata": {},
   "outputs": [],
   "source": [
    "# Frequency of different causes (top 10)\n",
    "plt.subplot(1, 3, 2)\n",
    "top_causes = data['Cause Ground Detail'].value_counts().head(10)\n",
    "sns.barplot(y=top_causes.index, x=top_causes.values, palette='rocket')\n",
    "plt.title('Top 10 Causes of Events')\n",
    "\n",
    "# Creating visualizations\n",
    "plt.figure(figsize=(15, 5))\n",
    "\n",
    "\n",
    "plt.tight_layout()\n",
    "plt.show()\n"
   ]
  },
  {
   "cell_type": "markdown",
   "id": "9844422c",
   "metadata": {},
   "source": [
    "The horizontal bar chart outlines the most frequent causes for events within a dataset. The horizontal axis quantifies the frequency of each cause, while the vertical axis lists the causes.\n",
    "\n",
    "The following observations can be made from the chart:\n",
    "- The leading cause of events is 'rush hour traffic jam (no cause reported)', indicating that congestion during peak travel times is a significant contributor to the number of events.\n",
    "- The second most common cause is 'traffic jam outside rush hour (no cause reported)', suggesting that traffic-related issues are prevalent even beyond traditional rush hours.\n",
    "- 'Accident (len)' ranks third, underscoring accidents as another primary factor in event causation.\n",
    "- Other notable causes include vehicle-related issues such as 'defective truck (s)' and 'defective vehicle (s)', and incidents related to 'road work' and 'clearance work'.\n",
    "- The chart also highlights less frequent but notable causes such as 'accident with truck (s)' and 'accident (with cleaning/storage)', which have a considerable impact despite their lower ranking.\n"
   ]
  },
  {
   "cell_type": "markdown",
   "id": "a81ba2c1",
   "metadata": {},
   "source": [
    "## Time-Series Analysis\n",
    "\n",
    "We will conduct a time-series analysis to observe trends and patterns over time. This includes analyzing the distribution of events across different months, time of the day, and the duration of these events.\n"
   ]
  },
  {
   "cell_type": "code",
   "execution_count": null,
   "id": "5d1a0c4d",
   "metadata": {},
   "outputs": [],
   "source": [
    "# Converting date and time columns to datetime format and setting new datetime columns\n",
    "data['File Start Date'] = pd.to_datetime(data['File Start Date'])\n",
    "data['File End Date'] = pd.to_datetime(data['File End Date'])\n",
    "data['Start DateTime'] = pd.to_datetime(data['File Start Date'].astype(str) + ' ' + data['File Start Time'])\n",
    "data['End DateTime'] = pd.to_datetime(data['File End Date'].astype(str) + ' ' + data['File End Time'])\n",
    "\n",
    "# Creating time-series visualizations\n",
    "plt.figure(figsize=(10, 6))"
   ]
  },
  {
   "cell_type": "code",
   "execution_count": null,
   "id": "99ae5374",
   "metadata": {},
   "outputs": [],
   "source": [
    "data.groupby(data['Start DateTime'].dt.to_period(\"M\")).size().plot(kind='bar')\n",
    "plt.title('Monthly Event Frequency')\n",
    "plt.xlabel('Month')\n",
    "plt.ylabel('Number of Events')\n",
    "plt.xticks(rotation=45)\n",
    "\n",
    "# Apply tight layout to adjust the spacing\n",
    "plt.tight_layout()\n",
    "\n",
    "# Display the plot\n",
    "plt.show()"
   ]
  },
  {
   "cell_type": "markdown",
   "id": "fdd98b48",
   "metadata": {},
   "source": [
    "#### Monthly Event Frequency Analysis\n",
    "\n",
    "The bar chart displays the number of events recorded each month throughout the year 2022. The x-axis represents the months of the year, labeled from January (2022-01) to December (2022-12), and the y-axis indicates the count of events that occurred in each month.\n",
    "\n",
    "Observations from the chart:\n",
    "\n",
    "- The number of events starts at a lower point in January, with a gradual increase in frequency as the year progresses, reaching the first peak around mid-year in June (2022-06).\n",
    "- The highest peak occurs in August (2022-08), which could suggest a seasonal pattern or a specific event that caused a higher number of occurrences during this month.\n",
    "- Following August, there is a noticeable decrease in September and October, with a slight increase again in November.\n",
    "- The event frequency diminishes once more in December, ending the year on a lower note compared to the mid-year peak.\n"
   ]
  },
  {
   "cell_type": "code",
   "execution_count": null,
   "id": "7a59008c",
   "metadata": {},
   "outputs": [],
   "source": [
    "# Time of day patterns for event occurrences\n",
    "data['Start DateTime'].dt.hour.value_counts().sort_index().plot(kind='bar')\n",
    "plt.title('Time of Day for Event Occurrences')\n",
    "plt.xlabel('Hour of Day')\n",
    "plt.ylabel('Number of Events')\n",
    "plt.xticks(rotation=0)\n",
    "plt.tight_layout()\n",
    "plt.show()"
   ]
  },
  {
   "cell_type": "markdown",
   "id": "f8964740",
   "metadata": {},
   "source": [
    "#### Time of Day for Event Occurrences Analysis\n",
    "\n",
    "This bar chart represents the distribution of events across different hours of the day. The x-axis denotes the hour of the day in 24-hour format, ranging from 4 AM to 10 PM (22), while the y-axis indicates the number of events occurring at each hour.\n",
    "\n",
    "Observations from the chart include:\n",
    "\n",
    "- A significant peak is observed during the early hours of the day, around 6 AM. This could indicate a surge in events during the early morning, possibly related to the start of rush hour or the beginning of business operations.\n",
    "- Following the morning peak, there is a substantial drop in the number of events until midday.\n",
    "- Event occurrences increase again in the afternoon, peaking at around 3 PM. This might correlate with the end of the school day or the beginning of evening rush hour, suggesting another period of high activity.\n",
    "- The number of events significantly decreases as the evening progresses, with the lowest counts in the late evening hours.\n",
    "\n",
    "\n"
   ]
  },
  {
   "cell_type": "code",
   "execution_count": null,
   "id": "acbdc651",
   "metadata": {},
   "outputs": [],
   "source": [
    "# Duration of events over time\n",
    "data['Event Duration'] = (data['End DateTime'] - data['Start DateTime']).dt.total_seconds() / 60  # Duration in minutes\n",
    "data.plot(x='Start DateTime', y='Event Duration', kind='line', ax=plt.gca())\n",
    "plt.title('Duration of Events Over Time')\n",
    "plt.xlabel('Date')\n",
    "plt.ylabel('Duration (Minutes)')\n",
    "plt.xticks(rotation=45)\n",
    "\n",
    "plt.tight_layout()\n",
    "plt.show()\n"
   ]
  },
  {
   "cell_type": "markdown",
   "id": "0011b1e7",
   "metadata": {},
   "source": [
    "#### Duration of Events Over Time Analysis\n",
    "\n",
    "The line chart depicts the duration of events over a span of time, specifically from January 2022 to January 2023. The x-axis represents the date, and the y-axis represents the duration of events in minutes.\n",
    "\n",
    "Key observations from the chart:\n",
    "\n",
    "- There is considerable variability in event durations throughout the year. Most events tend to have shorter durations, but there are several notable spikes indicating events of much longer duration.\n",
    "- The longest events appear to occur sporadically rather than following a clear seasonal or monthly pattern. These outliers could be due to extraordinary circumstances or significant incidents requiring extended attention.\n",
    "- There is no clear trend indicating an increase or decrease in event duration over time, suggesting that the factors affecting duration are varied and possibly unrelated to time of year.\n",
    "- The data points are densely packed, which could suggest a consistent recording of events throughout the year with no significant periods of inactivity.\n"
   ]
  },
  {
   "cell_type": "markdown",
   "id": "69d00982",
   "metadata": {},
   "source": [
    "## Correlation and Categorical Analysis\n",
    "\n",
    "Now, we'll conduct a correlation analysis among numerical variables and explore the relationships between categorical variables and other key metrics like event severity and duration.\n"
   ]
  },
  {
   "cell_type": "code",
   "execution_count": null,
   "id": "509a9fdc",
   "metadata": {},
   "outputs": [],
   "source": [
    "# Correlation Analysis among numerical variables\n",
    "numerical_data = data[['File Severity', 'Average Length', 'Hectometer Head', 'Hectometer Tail', 'Event Duration']]\n",
    "\n",
    "# Calculating correlation\n",
    "corr = numerical_data.corr()\n",
    "\n",
    "# Creating a heatmap for correlation\n",
    "plt.figure(figsize=(8, 6))\n",
    "sns.heatmap(corr, annot=True, cmap='coolwarm', fmt=\".2f\")\n",
    "plt.title('Correlation Heatmap')\n",
    "plt.show()\n",
    "\n",
    "\n"
   ]
  },
  {
   "cell_type": "markdown",
   "id": "f15e769d",
   "metadata": {},
   "source": [
    "## Correlation Heatmap Analysis\n",
    "\n",
    "The correlation heatmap provides a visual summary of the relationships between different numerical variables. Each cell in the heatmap shows the correlation coefficient between two variables, with the scale on the right indicating the strength of the relationship, ranging from -1 (perfect negative correlation) to 1 (perfect positive correlation).\n",
    "\n",
    "Key observations:\n",
    "\n",
    "- **File Severity and Event Duration**: There is a very high positive correlation (0.95) between 'File Severity' and 'Event Duration', suggesting that events with greater severity tend to have longer durations.\n",
    "- **Hectometer Head and Hectometer Tail**: These two variables have an almost perfect positive correlation (0.99), indicating that as the head hectometer marker increases, the tail marker tends to increase correspondingly, which is expected since they are part of the same event location.\n",
    "- **Average Length**: 'Average Length' has a moderate positive correlation with 'File Severity' (0.57), implying that more severe events are also longer in length.\n",
    "- **Weak Correlations**: Several variables, such as 'Hectometer Head' and 'File Severity', have a very low correlation (0.03), indicating no significant linear relationship between them.\n"
   ]
  },
  {
   "cell_type": "markdown",
   "id": "6d32eeae",
   "metadata": {},
   "source": [
    "Now we will go more in-depth and look how different 'Cause Ground Detail' categories impact the 'File Severity' and 'Event Duration'. "
   ]
  },
  {
   "cell_type": "code",
   "execution_count": null,
   "id": "5d0a0a96",
   "metadata": {},
   "outputs": [],
   "source": [
    "# In-depth analysis of categorical variables\n",
    "# Analyzing the impact of 'Cause Ground Detail' on 'File Severity' and 'Event Duration'\n",
    "cause_severity = data.groupby('Cause Ground Detail')['File Severity'].mean().sort_values(ascending=False)\n",
    "cause_duration = data.groupby('Cause Ground Detail')['Event Duration'].mean().sort_values(ascending=False)\n",
    "\n",
    "plt.figure(figsize=(15, 5))\n",
    "\n",
    "# Impact on File Severity\n",
    "cause_severity.head(10).plot(kind='barh', color='skyblue')\n",
    "plt.title('Top 10 Causes by Average Severity')\n",
    "plt.xlabel('Average Severity')\n",
    "plt.ylabel('Cause')\n",
    "\n",
    "plt.tight_layout()\n",
    "plt.show()\n",
    "\n"
   ]
  },
  {
   "cell_type": "markdown",
   "id": "39582cbf",
   "metadata": {},
   "source": [
    "#### Analysis of Top 10 Causes by Average Severity\n",
    "\n",
    "\n",
    "The horizontal bar chart lists the top 10 causes of events, ranked by their average severity. The severity is represented on the horizontal axis, scaled to show severity values, which appears to be in the range of hundreds of thousands (as indicated by the `1e6` at the far end of the scale, which denotes scientific notation for one million). Each bar's length represents the average severity score for each cause, with the causes listed on the vertical axis.\n",
    "\n",
    "Key observations from the chart:\n",
    "\n",
    "- The most severe cause, by a significant margin, is 'spitsfile (with accident)', indicating that events classified under this cause are the most severe on average.\n",
    "- 'Accident with truck (s)' and 'activities (and traffic jam outside spits without cause)' are also among the top causes with high average severity, which shows that these events can have serious implications.\n",
    "- Less severe, but still within the top causes, are 'road work' and 'spitsfile (with defective vehicle)', which have relatively lower average severity scores compared to the top-ranking causes.\n",
    "- The cause 'damaged guide rail' has the lowest average severity score among the top 10 causes but is still significant enough to be considered a major cause of events.\n",
    "\n"
   ]
  },
  {
   "cell_type": "code",
   "execution_count": null,
   "id": "586ec058",
   "metadata": {},
   "outputs": [],
   "source": [
    "# Impact on Event Duration\n",
    "cause_duration.head(10).plot(kind='barh', color='salmon')\n",
    "plt.title('Top 10 Causes by Average Event Duration')\n",
    "plt.xlabel('Average Duration (Minutes)')\n",
    "plt.ylabel('Cause')\n",
    "\n",
    "plt.tight_layout()\n",
    "plt.show()"
   ]
  },
  {
   "cell_type": "markdown",
   "id": "dd87507f",
   "metadata": {},
   "source": [
    "#### Analysis of Top 10 Causes by Average Event Duration\n",
    "\n",
    "This horizontal bar chart depicts the average duration, in minutes, of events attributed to various causes. The x-axis quantifies the average duration while the y-axis lists the causes of events.\n",
    "\n",
    "Observations from the chart include:\n",
    "\n",
    "- 'Spitsfile (with an incident)' is the leading cause of events when considering the average duration, suggesting that incidents related to this cause tend to last longer than those associated with other causes.\n",
    "- 'Spitsfile (defective vehicle and storage)' and 'accident (in a pointed file)' follow as the second and third causes leading to prolonged events, respectively.\n",
    "- Other causes such as 'accident and (traffic jam outside striker without cause)', 'demonstration', and 'road work' are also significant contributors to longer event durations, though to a lesser extent than the top-ranking causes.\n",
    "- 'Activities (and traffic jam outside spits without cause)' and 'damaged guide rail' have the lowest average duration among the top causes, indicating quicker resolution or less complexity in managing these types of events.\n",
    "\n"
   ]
  }
 ],
 "metadata": {
  "kernelspec": {
   "display_name": "SEM1-CB",
   "language": "python",
   "name": "python3"
  },
  "language_info": {
   "codemirror_mode": {
    "name": "ipython",
    "version": 3
   },
   "file_extension": ".py",
   "mimetype": "text/x-python",
   "name": "python",
   "nbconvert_exporter": "python",
   "pygments_lexer": "ipython3",
   "version": "3.10.0"
  }
 },
 "nbformat": 4,
 "nbformat_minor": 5
}
