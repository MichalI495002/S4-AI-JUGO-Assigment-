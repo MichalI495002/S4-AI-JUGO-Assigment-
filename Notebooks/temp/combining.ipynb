{
 "cells": [
  {
   "cell_type": "code",
   "execution_count": null,
   "metadata": {},
   "outputs": [],
   "source": [
    "import pandas as pd\n",
    "import os\n",
    "\n",
    "# Assuming all files are in the same directory and have a similar structure\n",
    "directory_path = '/2023'  # Update with the path to your CSV files\n",
    "all_files = [f for f in os.listdir(directory_path) if f.endswith('.csv')]\n",
    "\n",
    "# Initialize an empty list to hold dataframes\n",
    "dataframes_list = []\n",
    "\n",
    "for file in all_files:\n",
    "    file_path = os.path.join(directory_path, file)\n",
    "    # Read each file into a DataFrame and append to list\n",
    "    df = pd.read_csv(file_path, delimiter=';', decimal=',', engine='python', error_bad_lines=False)\n",
    "    dataframes_list.append(df)\n",
    "\n",
    "# Combine all DataFrames into one\n",
    "combined_df = pd.concat(dataframes_list, ignore_index=True)\n",
    "\n",
    "# Convert the date column to datetime for proper sorting\n",
    "combined_df['DatumFileBegin'] = pd.to_datetime(combined_df['DatumFileBegin'])\n",
    "\n",
    "# Sort by the date column (adjust column name if necessary)\n",
    "combined_df.sort_values(by='DatumFileBegin', inplace=True)\n",
    "\n",
    "# Optional: Save the combined and sorted DataFrame to a new CSV\n",
    "combined_df.to_csv('combined_data.csv', index=False)  # Update path as needed\n",
    "\n",
    "# Print or return the combined DataFrame\n",
    "print(combined_df)\n"
   ]
  }
 ],
 "metadata": {
  "language_info": {
   "name": "python"
  }
 },
 "nbformat": 4,
 "nbformat_minor": 2
}
