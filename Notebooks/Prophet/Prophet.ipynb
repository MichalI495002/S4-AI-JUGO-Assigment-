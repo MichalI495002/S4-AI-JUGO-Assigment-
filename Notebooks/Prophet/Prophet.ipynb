{
 "cells": [
  {
   "cell_type": "code",
   "execution_count": null,
   "metadata": {},
   "outputs": [],
   "source": [
    "import pandas as pd\n",
    "from prophet import Prophet\n",
    "# Load the data\n",
    "file_path = '../../Data/Scripts/dataProcesing/TimeSort.csv'  # Replace with your file path\n",
    "data = pd.read_csv(file_path)\n",
    "\n",
    "# Combine Date and Time Period into a single Datetime column if not already done\n",
    "# data['Datetime'] = pd.to_datetime(data['Date'] + ' ' + data['Time Period'])\n",
    "\n",
    "# Check for NaN values in 'Datetime' column\n",
    "if data['Datetime'].isnull().any():\n",
    "    # Option 1: Remove rows with NaN values\n",
    "    # data = data.dropna(subset=['Datetime'])\n",
    "\n",
    "    # Option 2: Impute missing values (forward fill, backward fill, or interpolation)\n",
    "    data['Datetime'].fillna(method='ffill', inplace=True)\n",
    "\n",
    "    # Add your chosen method of handling NaN values here\n",
    "\n",
    "# Prepare data for Prophet\n",
    "prophet_data = data[['Datetime', 'Min. per HM']].rename(columns={'Datetime': 'ds', 'Min. per HM': 'y'})\n",
    "\n",
    "# Initialize and fit the Prophet model\n",
    "model = Prophet()\n",
    "model.fit(prophet_data)\n",
    "\n",
    "# Create future dataframe for predictions\n",
    "future = model.make_future_dataframe(periods=365)\n",
    "forecast = model.predict(future)\n",
    "\n",
    "# (Optional) Plot the forecast\n",
    "# forecast.plot()\n",
    "\n"
   ]
  }
 ],
 "metadata": {
  "language_info": {
   "name": "python"
  }
 },
 "nbformat": 4,
 "nbformat_minor": 2
}
