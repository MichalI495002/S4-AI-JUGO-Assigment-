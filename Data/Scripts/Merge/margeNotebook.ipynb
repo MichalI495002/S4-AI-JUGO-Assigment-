{
 "cells": [
  {
   "cell_type": "code",
   "execution_count": 3,
   "metadata": {},
   "outputs": [
    {
     "ename": "SyntaxError",
     "evalue": "invalid syntax. Maybe you meant '==' or ':=' instead of '='? (166964421.py, line 13)",
     "output_type": "error",
     "traceback": [
      "\u001b[0;36m  Cell \u001b[0;32mIn[3], line 13\u001b[0;36m\u001b[0m\n\u001b[0;31m    df_Maarheeze_Denbosh = pd.concat([df_Maarheeze_Eindhoven, df_Eindhoven_DenBosh, ignore_index=True])\u001b[0m\n\u001b[0m                                                                                    ^\u001b[0m\n\u001b[0;31mSyntaxError\u001b[0m\u001b[0;31m:\u001b[0m invalid syntax. Maybe you meant '==' or ':=' instead of '='?\n"
     ]
    }
   ],
   "source": [
    "import pandas as pd\n",
    "#pd.read_pickle('D.pkl')\n",
    "\n",
    "file_path_Eindhoven_Arhem = \"../../../Notebooks/Timo-Eindhoven-Arnhem.csv\"\n",
    "file_path_Eindhoven_DenBosh = \"../../../Notebooks/Timo-Eindhoven-DenBosch.csv\"\n",
    "file_path_Maarheeze_Eindhoven = \"../../../Notebooks/Timo-Maarheeze-Eindhoven.csv\"\n",
    "\n",
    "df_Eindhoven_Arhem = pd.read_csv(file_path_Eindhoven_Arhem)\n",
    "df_Eindhoven_DenBosh = pd.read_csv(file_path_Eindhoven_DenBosh)\n",
    "df_Maarheeze_Eindhoven = pd.read_csv(file_path_Maarheeze_Eindhoven)\n",
    "\n",
    "df_Maarheeze_Arhem = pd.concat([df_Maarheeze_Eindhoven, df_Eindhoven_Arhem], ignore_index=True)\n",
    "df_Maarheeze_Denbosh = pd.concat([df_Maarheeze_Eindhoven, df_Eindhoven_DenBosh], ignore_index= True)"
   ]
  }
 ],
 "metadata": {
  "kernelspec": {
   "display_name": "Python 3",
   "language": "python",
   "name": "python3"
  },
  "language_info": {
   "codemirror_mode": {
    "name": "ipython",
    "version": 3
   },
   "file_extension": ".py",
   "mimetype": "text/x-python",
   "name": "python",
   "nbconvert_exporter": "python",
   "pygments_lexer": "ipython3",
   "version": "3.10.12"
  }
 },
 "nbformat": 4,
 "nbformat_minor": 2
}
